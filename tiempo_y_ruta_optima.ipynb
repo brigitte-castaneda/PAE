{
  "nbformat": 4,
  "nbformat_minor": 0,
  "metadata": {
    "colab": {
      "provenance": [],
      "authorship_tag": "ABX9TyN7aG29usEvCU4jaGm7SMNN",
      "include_colab_link": true
    },
    "kernelspec": {
      "name": "python3",
      "display_name": "Python 3"
    },
    "language_info": {
      "name": "python"
    }
  },
  "cells": [
    {
      "cell_type": "markdown",
      "metadata": {
        "id": "view-in-github",
        "colab_type": "text"
      },
      "source": [
        "<a href=\"https://colab.research.google.com/github/brigitte-castaneda/PAE/blob/main/tiempo_y_ruta_optima.ipynb\" target=\"_parent\"><img src=\"https://colab.research.google.com/assets/colab-badge.svg\" alt=\"Open In Colab\"/></a>"
      ]
    },
    {
      "cell_type": "code",
      "execution_count": null,
      "metadata": {
        "id": "QfUmMgpW67hO"
      },
      "outputs": [],
      "source": [
        "\n",
        "import requests\n",
        "import json\n",
        "def cole_data(api_key, from_school_long, from_school_lat , to_school_long, to_school_lat):\n",
        "  headers = {\n",
        "      'Accept': 'application/json, application/geo+json, application/gpx+xml, img/png; charset=utf-8',\n",
        "  }\n",
        "  call = requests.get('https://api.openrouteservice.org/v2/directions/driving-car?api_key={}&start={},{}&end={},{}'.format(api_key, from_school_long, from_school_lat , to_school_long, to_school_lat), headers=headers)\n",
        "\n",
        "  # print(call.status_code, call.reason)\n",
        "  return call.text\n"
      ]
    },
    {
      "cell_type": "markdown",
      "source": [
        "# Ejemplo \n",
        "Ricaurte 4.334448, -74.373649\n",
        "\n",
        "Valsalice 4.395070, -74.390736"
      ],
      "metadata": {
        "id": "mZurpiIH72BD"
      }
    },
    {
      "cell_type": "code",
      "source": [
        "api_key  = '5b3ce3597851110001cf62483509d1b19a204ab3a38c7f44e41d63ed'\n",
        "from_school_long, from_school_lat = -74.373649,4.334448\n",
        "to_school_long, to_school_lat = -74.390736,4.395070\n",
        "A = cole_data(api_key = api_key, from_school_long = from_school_long, from_school_lat = from_school_lat , to_school_long=   to_school_long, to_school_lat =  to_school_lat)"
      ],
      "metadata": {
        "id": "m4iR-zbr7_ZY"
      },
      "execution_count": null,
      "outputs": []
    },
    {
      "cell_type": "code",
      "source": [
        "diccionario = json.loads(A)"
      ],
      "metadata": {
        "id": "_jOUHdTR8jod"
      },
      "execution_count": null,
      "outputs": []
    },
    {
      "cell_type": "code",
      "source": [
        "diccionario['features'].items()"
      ],
      "metadata": {
        "colab": {
          "base_uri": "https://localhost:8080/",
          "height": 165
        },
        "id": "VKy5H25b8pqN",
        "outputId": "45b4c2fc-007e-432a-ab72-6a62c7de2dd7"
      },
      "execution_count": null,
      "outputs": [
        {
          "output_type": "error",
          "ename": "AttributeError",
          "evalue": "ignored",
          "traceback": [
            "\u001b[0;31m---------------------------------------------------------------------------\u001b[0m",
            "\u001b[0;31mAttributeError\u001b[0m                            Traceback (most recent call last)",
            "\u001b[0;32m<ipython-input-50-9e0e33772541>\u001b[0m in \u001b[0;36m<module>\u001b[0;34m\u001b[0m\n\u001b[0;32m----> 1\u001b[0;31m \u001b[0mdiccionario\u001b[0m\u001b[0;34m[\u001b[0m\u001b[0;34m'features'\u001b[0m\u001b[0;34m]\u001b[0m\u001b[0;34m.\u001b[0m\u001b[0mitems\u001b[0m\u001b[0;34m(\u001b[0m\u001b[0;34m)\u001b[0m\u001b[0;34m\u001b[0m\u001b[0;34m\u001b[0m\u001b[0m\n\u001b[0m",
            "\u001b[0;31mAttributeError\u001b[0m: 'list' object has no attribute 'items'"
          ]
        }
      ]
    },
    {
      "cell_type": "code",
      "source": [
        "import requests\n",
        "\n",
        "headers = {\n",
        "    'Accept': 'application/json, application/geo+json, application/gpx+xml, img/png; charset=utf-8',\n",
        "}\n",
        "call = requests.get('https://api.openrouteservice.org/v2/directions/driving-car?api_key=5b3ce3597851110001cf62483509d1b19a204ab3a38c7f44e41d63ed&start=-74.373649,4.334448&end=-74.390736,4.395070', headers=headers)\n",
        "\n",
        "print(call.status_code, call.reason)\n",
        "print(call.text)"
      ],
      "metadata": {
        "colab": {
          "base_uri": "https://localhost:8080/"
        },
        "id": "kIr8ZjPE9FoQ",
        "outputId": "113fb240-f4f8-45c5-b699-675e05370e6f"
      },
      "execution_count": null,
      "outputs": [
        {
          "output_type": "stream",
          "name": "stdout",
          "text": [
            "200 OK\n",
            "{\"type\":\"FeatureCollection\",\"features\":[{\"bbox\":[-74.391482,4.332375,-74.373578,4.39767],\"type\":\"Feature\",\"properties\":{\"segments\":[{\"distance\":10334.3,\"duration\":830.7,\"steps\":[{\"distance\":371.8,\"duration\":65.9,\"type\":11,\"instruction\":\"Head southwest on Transversal 14\",\"name\":\"Transversal 14\",\"way_points\":[0,6]},{\"distance\":143.8,\"duration\":34.5,\"type\":1,\"instruction\":\"Turn right\",\"name\":\"-\",\"way_points\":[6,8]},{\"distance\":1768.9,\"duration\":141.8,\"type\":5,\"instruction\":\"Turn slight right onto Calle 24B, 40\",\"name\":\"Calle 24B, 40\",\"way_points\":[8,35]},{\"distance\":2725.2,\"duration\":192.1,\"type\":13,\"instruction\":\"Keep right\",\"name\":\"-\",\"way_points\":[35,113]},{\"distance\":4843.0,\"duration\":353.7,\"type\":6,\"instruction\":\"Continue straight onto Autopista Bogotá - Girardot - Fusagasugá - Silvania, 40\",\"name\":\"Autopista Bogotá - Girardot - Fusagasugá - Silvania, 40\",\"way_points\":[113,226]},{\"distance\":469.0,\"duration\":39.7,\"type\":12,\"instruction\":\"Keep left\",\"name\":\"-\",\"way_points\":[226,238]},{\"distance\":12.5,\"duration\":3.0,\"type\":3,\"instruction\":\"Turn sharp right\",\"name\":\"-\",\"way_points\":[238,239]},{\"distance\":0.0,\"duration\":0.0,\"type\":10,\"instruction\":\"Arrive at your destination, on the left\",\"name\":\"-\",\"way_points\":[239,239]}]}],\"summary\":{\"distance\":10334.3,\"duration\":830.7},\"way_points\":[0,239]},\"geometry\":{\"coordinates\":[[-74.373578,4.334352],[-74.374177,4.333914],[-74.374355,4.333776],[-74.374618,4.333574],[-74.374738,4.333481],[-74.374855,4.333389],[-74.376282,4.332375],[-74.376872,4.333207],[-74.377036,4.333427],[-74.376602,4.336385],[-74.376528,4.336893],[-74.376242,4.338853],[-74.37621,4.339072],[-74.37618,4.339279],[-74.376045,4.340198],[-74.375939,4.340893],[-74.375819,4.341746],[-74.3758,4.34206],[-74.375811,4.342376],[-74.375875,4.342708],[-74.375964,4.343023],[-74.376101,4.343373],[-74.376182,4.343522],[-74.376395,4.343932],[-74.376672,4.344468],[-74.376822,4.344759],[-74.377079,4.345252],[-74.377239,4.345552],[-74.377782,4.346626],[-74.377817,4.346694],[-74.378071,4.347133],[-74.378144,4.347266],[-74.378281,4.347531],[-74.378441,4.347851],[-74.378469,4.347907],[-74.378817,4.348534],[-74.378856,4.348701],[-74.379074,4.349129],[-74.379163,4.349306],[-74.379535,4.350056],[-74.379567,4.350135],[-74.37972,4.350546],[-74.379743,4.350817],[-74.379731,4.35112],[-74.379703,4.351287],[-74.379644,4.351475],[-74.379539,4.351693],[-74.379337,4.352027],[-74.379285,4.352066],[-74.379221,4.352111],[-74.379105,4.352185],[-74.379008,4.352234],[-74.378906,4.352277],[-74.378739,4.352328],[-74.37842,4.352357],[-74.37693,4.352256],[-74.376717,4.35227],[-74.376567,4.352304],[-74.376416,4.352367],[-74.376289,4.352448],[-74.376198,4.352533],[-74.376096,4.352656],[-74.376013,4.352794],[-74.375962,4.352937],[-74.375924,4.353235],[-74.375925,4.353344],[-74.375961,4.353765],[-74.375966,4.35388],[-74.375968,4.354],[-74.375969,4.354068],[-74.375961,4.35421],[-74.375897,4.354538],[-74.375577,4.355612],[-74.375454,4.356011],[-74.375352,4.356365],[-74.375261,4.356786],[-74.375244,4.356903],[-74.375231,4.357073],[-74.37523,4.357358],[-74.375268,4.357767],[-74.375309,4.35797],[-74.375431,4.358363],[-74.375459,4.358447],[-74.375506,4.358561],[-74.375629,4.35878],[-74.375848,4.359096],[-74.376066,4.359408],[-74.376144,4.359513],[-74.376199,4.359583],[-74.376264,4.359647],[-74.376312,4.359687],[-74.376441,4.359781],[-74.37658,4.35986],[-74.376811,4.359947],[-74.376973,4.359979],[-74.377698,4.36006],[-74.377988,4.360142],[-74.378263,4.360288],[-74.37882,4.360722],[-74.379478,4.361249],[-74.380129,4.36178],[-74.380848,4.362352],[-74.382472,4.363684],[-74.382515,4.363737],[-74.382552,4.363798],[-74.382636,4.36401],[-74.382957,4.365126],[-74.382985,4.365277],[-74.382984,4.36543],[-74.382974,4.36549],[-74.382952,4.365566],[-74.382858,4.365749],[-74.382776,4.365833],[-74.382742,4.365859],[-74.382666,4.365924],[-74.38212,4.366333],[-74.382044,4.366412],[-74.381982,4.366503],[-74.381932,4.366617],[-74.381907,4.366792],[-74.381922,4.366916],[-74.381965,4.367057],[-74.382005,4.367152],[-74.382245,4.36756],[-74.382301,4.367641],[-74.382481,4.367836],[-74.382606,4.367926],[-74.382693,4.367983],[-74.382789,4.368052],[-74.382969,4.368164],[-74.383142,4.368278],[-74.38332,4.368397],[-74.384052,4.368873],[-74.384729,4.369333],[-74.384933,4.369506],[-74.385083,4.369678],[-74.385261,4.369986],[-74.385708,4.370982],[-74.386113,4.371903],[-74.386421,4.372609],[-74.386522,4.372835],[-74.386613,4.373039],[-74.386727,4.373293],[-74.386832,4.373514],[-74.387133,4.37402],[-74.387189,4.374094],[-74.387249,4.374169],[-74.387304,4.374243],[-74.387649,4.374636],[-74.387917,4.374937],[-74.3884,4.375461],[-74.388952,4.376084],[-74.389161,4.376322],[-74.389277,4.376523],[-74.389327,4.376665],[-74.38935,4.376759],[-74.389362,4.376971],[-74.389336,4.377137],[-74.389281,4.37729],[-74.389205,4.37743],[-74.389106,4.377558],[-74.389024,4.377633],[-74.387546,4.378743],[-74.387205,4.379049],[-74.385813,4.380467],[-74.385457,4.380852],[-74.385365,4.380962],[-74.385294,4.38108],[-74.385209,4.381353],[-74.385191,4.381458],[-74.385178,4.381558],[-74.38517,4.381639],[-74.385133,4.382055],[-74.38512,4.382191],[-74.385104,4.382348],[-74.385098,4.382409],[-74.38508,4.382633],[-74.384978,4.383345],[-74.384927,4.383891],[-74.384927,4.38411],[-74.38494,4.384214],[-74.38498,4.384317],[-74.385075,4.384487],[-74.385131,4.38455],[-74.385327,4.384711],[-74.385552,4.384848],[-74.385643,4.384885],[-74.38577,4.384924],[-74.386086,4.38495],[-74.386319,4.38492],[-74.386457,4.384894],[-74.386758,4.384831],[-74.38729,4.384712],[-74.389345,4.384254],[-74.389644,4.384204],[-74.389896,4.384216],[-74.390029,4.384238],[-74.390241,4.384313],[-74.39035,4.38437],[-74.390581,4.384545],[-74.390683,4.384648],[-74.390783,4.384787],[-74.390843,4.384891],[-74.390896,4.385012],[-74.390928,4.385091],[-74.390957,4.385217],[-74.390973,4.385315],[-74.390992,4.385498],[-74.391012,4.385945],[-74.391095,4.387033],[-74.391372,4.390941],[-74.391453,4.392276],[-74.391482,4.392724],[-74.391466,4.39303],[-74.391424,4.393262],[-74.391362,4.393459],[-74.39126,4.393673],[-74.391185,4.393808],[-74.391104,4.393939],[-74.390386,4.395107],[-74.390234,4.39532],[-74.389716,4.395853],[-74.389147,4.39646],[-74.388559,4.397019],[-74.388465,4.397094],[-74.388331,4.397174],[-74.388091,4.397304],[-74.387955,4.397437],[-74.387924,4.397503],[-74.387923,4.397548],[-74.387939,4.397607],[-74.387978,4.397659],[-74.388082,4.39767],[-74.388202,4.397595],[-74.388365,4.39745],[-74.388625,4.397134],[-74.390309,4.39536],[-74.390477,4.395142],[-74.390575,4.394978],[-74.390655,4.395058]],\"type\":\"LineString\"}}],\"bbox\":[-74.391482,4.332375,-74.373578,4.39767],\"metadata\":{\"attribution\":\"openrouteservice.org | OpenStreetMap contributors\",\"service\":\"routing\",\"timestamp\":1670187943831,\"query\":{\"coordinates\":[[-74.373649,4.334448],[-74.390736,4.39507]],\"profile\":\"driving-car\",\"format\":\"json\"},\"engine\":{\"version\":\"6.8.0\",\"build_date\":\"2022-10-21T14:34:31Z\",\"graph_date\":\"2022-11-17T23:46:05Z\"}}}\n"
          ]
        }
      ]
    },
    {
      "cell_type": "code",
      "source": [
        "import requests\n",
        "import json\n",
        "body = {\"locations\":[[-74.373649,4.334448],[-74.390736,4.39507],[-74.363375,4.335787],[-74.371529,4.332296]],\"metrics\":[\"distance\",\"duration\"],\"units\":\"km\"}\n",
        " \n",
        "headers = {\n",
        "    'Accept': 'application/json, application/geo+json, application/gpx+xml, img/png; charset=utf-8',\n",
        "    'Authorization': '5b3ce3597851110001cf62483509d1b19a204ab3a38c7f44e41d63ed',\n",
        "    'Content-Type': 'application/json; charset=utf-8'\n",
        "}\n",
        "call = requests.post('https://api.openrouteservice.org/v2/matrix/driving-car', json=body, headers=headers)\n",
        "\n",
        "A = json.loads(call.text)\n",
        "A"
      ],
      "metadata": {
        "colab": {
          "base_uri": "https://localhost:8080/"
        },
        "id": "-gvMSLfDkZCH",
        "outputId": "9e5c2dff-54ec-4cef-c187-6991f2f7b497"
      },
      "execution_count": null,
      "outputs": [
        {
          "output_type": "execute_result",
          "data": {
            "text/plain": [
              "{'durations': [[0.0, 830.67, 235.37, 94.39],\n",
              "  [947.15, 0.0, 1033.78, 959.36],\n",
              "  [268.5, 864.1, 0.0, 228.75],\n",
              "  [123.65, 863.84, 170.51, 0.0]],\n",
              " 'distances': [[0.0, 10.33, 1.63, 0.41],\n",
              "  [10.14, 0.0, 11.3, 10.58],\n",
              "  [1.62, 10.8, 0.0, 1.47],\n",
              "  [0.67, 10.99, 1.34, 0.0]],\n",
              " 'destinations': [{'location': [-74.373578, 4.334352],\n",
              "   'snapped_distance': 13.24},\n",
              "  {'location': [-74.390655, 4.395058], 'snapped_distance': 9.12},\n",
              "  {'location': [-74.363289, 4.33585], 'snapped_distance': 11.86},\n",
              "  {'location': [-74.371562, 4.332287], 'snapped_distance': 3.84}],\n",
              " 'sources': [{'location': [-74.373578, 4.334352], 'snapped_distance': 13.24},\n",
              "  {'location': [-74.390655, 4.395058], 'snapped_distance': 9.12},\n",
              "  {'location': [-74.363289, 4.33585], 'snapped_distance': 11.86},\n",
              "  {'location': [-74.371562, 4.332287], 'snapped_distance': 3.84}],\n",
              " 'metadata': {'attribution': 'openrouteservice.org | OpenStreetMap contributors',\n",
              "  'service': 'matrix',\n",
              "  'timestamp': 1670211286470,\n",
              "  'query': {'locations': [[-74.373649, 4.334448],\n",
              "    [-74.390736, 4.39507],\n",
              "    [-74.363375, 4.335787],\n",
              "    [-74.371529, 4.332296]],\n",
              "   'profile': 'driving-car',\n",
              "   'responseType': 'json',\n",
              "   'metrics': ['distance', 'duration'],\n",
              "   'units': 'km'},\n",
              "  'engine': {'version': '6.8.0',\n",
              "   'build_date': '2022-10-21T14:34:31Z',\n",
              "   'graph_date': '2022-11-17T23:46:05Z'}}}"
            ]
          },
          "metadata": {},
          "execution_count": 5
        }
      ]
    },
    {
      "cell_type": "markdown",
      "source": [],
      "metadata": {
        "id": "8WIWxqJQ8o5r"
      }
    }
  ]
}